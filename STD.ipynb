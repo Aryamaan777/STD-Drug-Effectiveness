{
  "nbformat": 4,
  "nbformat_minor": 0,
  "metadata": {
    "colab": {
      "name": "STD.ipynb",
      "provenance": [],
      "authorship_tag": "ABX9TyMXbUeeWNAuvQDlfGp0YYCy",
      "include_colab_link": true
    },
    "kernelspec": {
      "name": "python3",
      "display_name": "Python 3"
    },
    "accelerator": "GPU"
  },
  "cells": [
    {
      "cell_type": "markdown",
      "metadata": {
        "id": "view-in-github",
        "colab_type": "text"
      },
      "source": [
        "<a href=\"https://colab.research.google.com/github/Aryamaan777/STD-Drug-Effectiveness/blob/master/STD.ipynb\" target=\"_parent\"><img src=\"https://colab.research.google.com/assets/colab-badge.svg\" alt=\"Open In Colab\"/></a>"
      ]
    },
    {
      "cell_type": "code",
      "metadata": {
        "id": "naiHTrdnKVKW",
        "colab_type": "code",
        "outputId": "a31a26af-8824-46e5-eace-1296c9182b82",
        "colab": {
          "base_uri": "https://localhost:8080/",
          "height": 34
        }
      },
      "source": [
        "import tensorflow as tf\n",
        "print(tf.__version__)"
      ],
      "execution_count": 1,
      "outputs": [
        {
          "output_type": "stream",
          "text": [
            "2.2.0-rc3\n"
          ],
          "name": "stdout"
        }
      ]
    },
    {
      "cell_type": "code",
      "metadata": {
        "id": "Gk9C4utXKecI",
        "colab_type": "code",
        "colab": {}
      },
      "source": [
        "import numpy as np\n",
        "import pandas as pd\n",
        "import matplotlib.pyplot as plt\n",
        "from sklearn.preprocessing import LabelEncoder\n",
        "from tensorflow.keras.layers import Input,Dense,Dropout,Flatten\n",
        "from tensorflow.keras.models import Model\n",
        "from sklearn.model_selection import train_test_split"
      ],
      "execution_count": 0,
      "outputs": []
    },
    {
      "cell_type": "code",
      "metadata": {
        "id": "wxdfDiejKyo8",
        "colab_type": "code",
        "colab": {}
      },
      "source": [
        "data=pd.read_csv(\"/content/train.csv\")"
      ],
      "execution_count": 0,
      "outputs": []
    },
    {
      "cell_type": "code",
      "metadata": {
        "id": "AvF3iQ3SMskZ",
        "colab_type": "code",
        "colab": {}
      },
      "source": [
        "patient_id=data[\"patient_id\"]\n",
        "data=data.drop([\"patient_id\",\"name_of_drug\",\"review_by_patient\",\"drug_approved_by_UIC\"],axis=1)"
      ],
      "execution_count": 0,
      "outputs": []
    },
    {
      "cell_type": "code",
      "metadata": {
        "id": "qLmX6TOAJdiC",
        "colab_type": "code",
        "outputId": "5b6a171f-907f-4f81-fd86-aa97e81e01ba",
        "colab": {
          "base_uri": "https://localhost:8080/",
          "height": 204
        }
      },
      "source": [
        "y_train=data[\"base_score\"]\n",
        "x_train=data.drop(\"base_score\",axis=1)\n",
        "x_train.head()"
      ],
      "execution_count": 5,
      "outputs": [
        {
          "output_type": "execute_result",
          "data": {
            "text/html": [
              "<div>\n",
              "<style scoped>\n",
              "    .dataframe tbody tr th:only-of-type {\n",
              "        vertical-align: middle;\n",
              "    }\n",
              "\n",
              "    .dataframe tbody tr th {\n",
              "        vertical-align: top;\n",
              "    }\n",
              "\n",
              "    .dataframe thead th {\n",
              "        text-align: right;\n",
              "    }\n",
              "</style>\n",
              "<table border=\"1\" class=\"dataframe\">\n",
              "  <thead>\n",
              "    <tr style=\"text-align: right;\">\n",
              "      <th></th>\n",
              "      <th>use_case_for_drug</th>\n",
              "      <th>effectiveness_rating</th>\n",
              "      <th>number_of_times_prescribed</th>\n",
              "    </tr>\n",
              "  </thead>\n",
              "  <tbody>\n",
              "    <tr>\n",
              "      <th>0</th>\n",
              "      <td>Left Ventricular Dysfunction</td>\n",
              "      <td>9</td>\n",
              "      <td>27</td>\n",
              "    </tr>\n",
              "    <tr>\n",
              "      <th>1</th>\n",
              "      <td>ADHD</td>\n",
              "      <td>8</td>\n",
              "      <td>192</td>\n",
              "    </tr>\n",
              "    <tr>\n",
              "      <th>2</th>\n",
              "      <td>Birth Control</td>\n",
              "      <td>5</td>\n",
              "      <td>17</td>\n",
              "    </tr>\n",
              "    <tr>\n",
              "      <th>3</th>\n",
              "      <td>Opiate Dependence</td>\n",
              "      <td>9</td>\n",
              "      <td>37</td>\n",
              "    </tr>\n",
              "    <tr>\n",
              "      <th>4</th>\n",
              "      <td>Benign Prostatic Hyperplasia</td>\n",
              "      <td>2</td>\n",
              "      <td>43</td>\n",
              "    </tr>\n",
              "  </tbody>\n",
              "</table>\n",
              "</div>"
            ],
            "text/plain": [
              "              use_case_for_drug  ...  number_of_times_prescribed\n",
              "0  Left Ventricular Dysfunction  ...                          27\n",
              "1                          ADHD  ...                         192\n",
              "2                 Birth Control  ...                          17\n",
              "3             Opiate Dependence  ...                          37\n",
              "4  Benign Prostatic Hyperplasia  ...                          43\n",
              "\n",
              "[5 rows x 3 columns]"
            ]
          },
          "metadata": {
            "tags": []
          },
          "execution_count": 5
        }
      ]
    },
    {
      "cell_type": "code",
      "metadata": {
        "id": "u_LlbViRKvrX",
        "colab_type": "code",
        "outputId": "d522e3a0-3f8f-4012-9766-67caf6a1bebb",
        "colab": {
          "base_uri": "https://localhost:8080/",
          "height": 204
        }
      },
      "source": [
        "le=LabelEncoder()\n",
        "x_train[\"use_case_for_drug\"]=le.fit_transform(x_train[\"use_case_for_drug\"])\n",
        "x_train.head()"
      ],
      "execution_count": 6,
      "outputs": [
        {
          "output_type": "execute_result",
          "data": {
            "text/html": [
              "<div>\n",
              "<style scoped>\n",
              "    .dataframe tbody tr th:only-of-type {\n",
              "        vertical-align: middle;\n",
              "    }\n",
              "\n",
              "    .dataframe tbody tr th {\n",
              "        vertical-align: top;\n",
              "    }\n",
              "\n",
              "    .dataframe thead th {\n",
              "        text-align: right;\n",
              "    }\n",
              "</style>\n",
              "<table border=\"1\" class=\"dataframe\">\n",
              "  <thead>\n",
              "    <tr style=\"text-align: right;\">\n",
              "      <th></th>\n",
              "      <th>use_case_for_drug</th>\n",
              "      <th>effectiveness_rating</th>\n",
              "      <th>number_of_times_prescribed</th>\n",
              "    </tr>\n",
              "  </thead>\n",
              "  <tbody>\n",
              "    <tr>\n",
              "      <th>0</th>\n",
              "      <td>335</td>\n",
              "      <td>9</td>\n",
              "      <td>27</td>\n",
              "    </tr>\n",
              "    <tr>\n",
              "      <th>1</th>\n",
              "      <td>39</td>\n",
              "      <td>8</td>\n",
              "      <td>192</td>\n",
              "    </tr>\n",
              "    <tr>\n",
              "      <th>2</th>\n",
              "      <td>110</td>\n",
              "      <td>5</td>\n",
              "      <td>17</td>\n",
              "    </tr>\n",
              "    <tr>\n",
              "      <th>3</th>\n",
              "      <td>412</td>\n",
              "      <td>9</td>\n",
              "      <td>37</td>\n",
              "    </tr>\n",
              "    <tr>\n",
              "      <th>4</th>\n",
              "      <td>105</td>\n",
              "      <td>2</td>\n",
              "      <td>43</td>\n",
              "    </tr>\n",
              "  </tbody>\n",
              "</table>\n",
              "</div>"
            ],
            "text/plain": [
              "   use_case_for_drug  effectiveness_rating  number_of_times_prescribed\n",
              "0                335                     9                          27\n",
              "1                 39                     8                         192\n",
              "2                110                     5                          17\n",
              "3                412                     9                          37\n",
              "4                105                     2                          43"
            ]
          },
          "metadata": {
            "tags": []
          },
          "execution_count": 6
        }
      ]
    },
    {
      "cell_type": "code",
      "metadata": {
        "id": "LjaBhkSfRgCq",
        "colab_type": "code",
        "colab": {}
      },
      "source": [
        "\"\"\"x_train[\"number_of_times_prescribed\"]=x_train[\"number_of_times_prescribed\"]-x_train[\"number_of_times_prescribed\"].min()\n",
        "x_train[\"number_of_times_prescribed\"]=x_train[\"number_of_times_prescribed\"]/x_train[\"number_of_times_prescribed\"].max()\n",
        "\n",
        "x_train[\"effectiveness_rating\"]=x_train[\"effectiveness_rating\"]-x_train[\"effectiveness_rating\"].min()\n",
        "x_train[\"effectiveness_rating\"]=x_train[\"effectiveness_rating\"]/x_train[\"effectiveness_rating\"].max()\n",
        "x_train.head()\"\"\""
      ],
      "execution_count": 0,
      "outputs": []
    },
    {
      "cell_type": "code",
      "metadata": {
        "id": "nc25FRsvLEca",
        "colab_type": "code",
        "outputId": "801cab4a-f5d0-4d16-8052-946138534df5",
        "colab": {
          "base_uri": "https://localhost:8080/",
          "height": 51
        }
      },
      "source": [
        "print(x_train.shape)\n",
        "print(y_train.shape)"
      ],
      "execution_count": 7,
      "outputs": [
        {
          "output_type": "stream",
          "text": [
            "(32165, 3)\n",
            "(32165,)\n"
          ],
          "name": "stdout"
        }
      ]
    },
    {
      "cell_type": "code",
      "metadata": {
        "id": "p-AsxQLTLNPG",
        "colab_type": "code",
        "colab": {}
      },
      "source": [
        "i=Input(shape=(3,))\n",
        "x=Dense(512,activation=\"relu\")(i)\n",
        "x=Dense(256,activation=\"relu\")(x)\n",
        "x=Dense(128,activation=\"relu\")(x)\n",
        "x=Dense(64,activation=\"relu\")(x)\n",
        "x=Dense(32,activation=\"relu\")(x)\n",
        "x=Dense(1)(x)\n",
        "\n",
        "model=Model(i,x)"
      ],
      "execution_count": 0,
      "outputs": []
    },
    {
      "cell_type": "code",
      "metadata": {
        "id": "ByAgB8FdO2_5",
        "colab_type": "code",
        "colab": {}
      },
      "source": [
        "x_train,x_val,y_train,y_val=train_test_split(x_train,y_train,test_size=0.2)"
      ],
      "execution_count": 0,
      "outputs": []
    },
    {
      "cell_type": "code",
      "metadata": {
        "id": "vGFCfaesL-2H",
        "colab_type": "code",
        "outputId": "e8befcd9-e24a-4980-da78-13cc5eba26cb",
        "colab": {
          "base_uri": "https://localhost:8080/",
          "height": 1000
        }
      },
      "source": [
        "model.compile(optimizer=\"adam\",\n",
        "              loss=\"mse\")\n",
        "\n",
        "r=model.fit(x_train,y_train,validation_data=(x_val,y_val),epochs=50)"
      ],
      "execution_count": 10,
      "outputs": [
        {
          "output_type": "stream",
          "text": [
            "Epoch 1/50\n",
            "805/805 [==============================] - 2s 2ms/step - loss: 5.0320 - val_loss: 2.9050\n",
            "Epoch 2/50\n",
            "805/805 [==============================] - 2s 2ms/step - loss: 2.4737 - val_loss: 2.2206\n",
            "Epoch 3/50\n",
            "805/805 [==============================] - 2s 2ms/step - loss: 2.2301 - val_loss: 2.4525\n",
            "Epoch 4/50\n",
            "805/805 [==============================] - 2s 2ms/step - loss: 2.1725 - val_loss: 2.2925\n",
            "Epoch 5/50\n",
            "805/805 [==============================] - 2s 2ms/step - loss: 2.1003 - val_loss: 2.1703\n",
            "Epoch 6/50\n",
            "805/805 [==============================] - 2s 2ms/step - loss: 2.0219 - val_loss: 2.0069\n",
            "Epoch 7/50\n",
            "805/805 [==============================] - 2s 2ms/step - loss: 1.9311 - val_loss: 1.9680\n",
            "Epoch 8/50\n",
            "805/805 [==============================] - 2s 2ms/step - loss: 1.8442 - val_loss: 1.6428\n",
            "Epoch 9/50\n",
            "805/805 [==============================] - 2s 2ms/step - loss: 1.6652 - val_loss: 1.4244\n",
            "Epoch 10/50\n",
            "805/805 [==============================] - 2s 2ms/step - loss: 1.5125 - val_loss: 1.4862\n",
            "Epoch 11/50\n",
            "805/805 [==============================] - 2s 2ms/step - loss: 1.3671 - val_loss: 1.3194\n",
            "Epoch 12/50\n",
            "805/805 [==============================] - 2s 2ms/step - loss: 1.3174 - val_loss: 1.4778\n",
            "Epoch 13/50\n",
            "805/805 [==============================] - 2s 2ms/step - loss: 1.2562 - val_loss: 1.1220\n",
            "Epoch 14/50\n",
            "805/805 [==============================] - 2s 2ms/step - loss: 1.2282 - val_loss: 1.2016\n",
            "Epoch 15/50\n",
            "805/805 [==============================] - 2s 2ms/step - loss: 1.1792 - val_loss: 1.0909\n",
            "Epoch 16/50\n",
            "805/805 [==============================] - 2s 2ms/step - loss: 1.1315 - val_loss: 1.0412\n",
            "Epoch 17/50\n",
            "805/805 [==============================] - 2s 2ms/step - loss: 1.0723 - val_loss: 0.9723\n",
            "Epoch 18/50\n",
            "805/805 [==============================] - 2s 2ms/step - loss: 1.0690 - val_loss: 0.9409\n",
            "Epoch 19/50\n",
            "805/805 [==============================] - 2s 2ms/step - loss: 1.0461 - val_loss: 1.0266\n",
            "Epoch 20/50\n",
            "805/805 [==============================] - 2s 2ms/step - loss: 1.0181 - val_loss: 1.0059\n",
            "Epoch 21/50\n",
            "805/805 [==============================] - 2s 2ms/step - loss: 0.9776 - val_loss: 1.0257\n",
            "Epoch 22/50\n",
            "805/805 [==============================] - 2s 2ms/step - loss: 0.9302 - val_loss: 0.9521\n",
            "Epoch 23/50\n",
            "805/805 [==============================] - 2s 2ms/step - loss: 0.9696 - val_loss: 0.8724\n",
            "Epoch 24/50\n",
            "805/805 [==============================] - 2s 2ms/step - loss: 0.9224 - val_loss: 0.9299\n",
            "Epoch 25/50\n",
            "805/805 [==============================] - 2s 2ms/step - loss: 0.8923 - val_loss: 0.9264\n",
            "Epoch 26/50\n",
            "805/805 [==============================] - 2s 2ms/step - loss: 0.8624 - val_loss: 0.8805\n",
            "Epoch 27/50\n",
            "805/805 [==============================] - 2s 2ms/step - loss: 0.8674 - val_loss: 0.9827\n",
            "Epoch 28/50\n",
            "805/805 [==============================] - 2s 3ms/step - loss: 0.8906 - val_loss: 0.7429\n",
            "Epoch 29/50\n",
            "805/805 [==============================] - 2s 3ms/step - loss: 0.8335 - val_loss: 0.9250\n",
            "Epoch 30/50\n",
            "805/805 [==============================] - 2s 2ms/step - loss: 0.8433 - val_loss: 0.7643\n",
            "Epoch 31/50\n",
            "805/805 [==============================] - 2s 2ms/step - loss: 0.8303 - val_loss: 0.7835\n",
            "Epoch 32/50\n",
            "805/805 [==============================] - 2s 2ms/step - loss: 0.7826 - val_loss: 0.7232\n",
            "Epoch 33/50\n",
            "805/805 [==============================] - 2s 2ms/step - loss: 0.8224 - val_loss: 0.7928\n",
            "Epoch 34/50\n",
            "805/805 [==============================] - 2s 2ms/step - loss: 0.7846 - val_loss: 1.0227\n",
            "Epoch 35/50\n",
            "805/805 [==============================] - 2s 2ms/step - loss: 0.7752 - val_loss: 0.7843\n",
            "Epoch 36/50\n",
            "805/805 [==============================] - 2s 2ms/step - loss: 0.7800 - val_loss: 0.7524\n",
            "Epoch 37/50\n",
            "805/805 [==============================] - 2s 2ms/step - loss: 0.7692 - val_loss: 0.8832\n",
            "Epoch 38/50\n",
            "805/805 [==============================] - 2s 2ms/step - loss: 0.7472 - val_loss: 1.0818\n",
            "Epoch 39/50\n",
            "805/805 [==============================] - 2s 2ms/step - loss: 0.7419 - val_loss: 0.6458\n",
            "Epoch 40/50\n",
            "805/805 [==============================] - 2s 2ms/step - loss: 0.7514 - val_loss: 0.9354\n",
            "Epoch 41/50\n",
            "805/805 [==============================] - 2s 2ms/step - loss: 0.7524 - val_loss: 0.6379\n",
            "Epoch 42/50\n",
            "805/805 [==============================] - 2s 2ms/step - loss: 0.7104 - val_loss: 0.6533\n",
            "Epoch 43/50\n",
            "805/805 [==============================] - 2s 2ms/step - loss: 0.7616 - val_loss: 0.6276\n",
            "Epoch 44/50\n",
            "805/805 [==============================] - 2s 2ms/step - loss: 0.7450 - val_loss: 0.8697\n",
            "Epoch 45/50\n",
            "805/805 [==============================] - 2s 2ms/step - loss: 0.7607 - val_loss: 0.7720\n",
            "Epoch 46/50\n",
            "805/805 [==============================] - 2s 2ms/step - loss: 0.6879 - val_loss: 0.6718\n",
            "Epoch 47/50\n",
            "805/805 [==============================] - 2s 2ms/step - loss: 0.7284 - val_loss: 0.7047\n",
            "Epoch 48/50\n",
            "805/805 [==============================] - 2s 2ms/step - loss: 0.7391 - val_loss: 1.0291\n",
            "Epoch 49/50\n",
            "805/805 [==============================] - 2s 2ms/step - loss: 0.7128 - val_loss: 0.8040\n",
            "Epoch 50/50\n",
            "805/805 [==============================] - 2s 2ms/step - loss: 0.7221 - val_loss: 0.6363\n"
          ],
          "name": "stdout"
        }
      ]
    },
    {
      "cell_type": "code",
      "metadata": {
        "id": "t_X_daGVPe2o",
        "colab_type": "code",
        "outputId": "47be6893-e524-4719-99d7-a12f11a23e6d",
        "colab": {
          "base_uri": "https://localhost:8080/",
          "height": 282
        }
      },
      "source": [
        "plt.plot(r.history[\"loss\"],label=\"loss\")\n",
        "plt.plot(r.history[\"val_loss\"],label=\"val_loss\")\n",
        "plt.legend()"
      ],
      "execution_count": 11,
      "outputs": [
        {
          "output_type": "execute_result",
          "data": {
            "text/plain": [
              "<matplotlib.legend.Legend at 0x7f5c50440c88>"
            ]
          },
          "metadata": {
            "tags": []
          },
          "execution_count": 11
        },
        {
          "output_type": "display_data",
          "data": {
            "image/png": "[encoded data removed]",
            "text/plain": [
              "<Figure size 432x288 with 1 Axes>"
            ]
          },
          "metadata": {
            "tags": [],
            "needs_background": "light"
          }
        }
      ]
    },
    {
      "cell_type": "code",
      "metadata": {
        "id": "JVHedtp2Px6U",
        "colab_type": "code",
        "outputId": "4f57db99-98fc-4d94-8784-0636c4bf5b4e",
        "colab": {
          "base_uri": "https://localhost:8080/",
          "height": 34
        }
      },
      "source": [
        "ck=model.predict(x_val)\n",
        "print(max(ck))"
      ],
      "execution_count": 12,
      "outputs": [
        {
          "output_type": "stream",
          "text": [
            "[9.16604]\n"
          ],
          "name": "stdout"
        }
      ]
    },
    {
      "cell_type": "code",
      "metadata": {
        "id": "wO0HpQwAP73D",
        "colab_type": "code",
        "colab": {}
      },
      "source": [
        "i=0\n",
        "x=[]\n",
        "for c in y_val:\n",
        "  if(ck[i]>10):\n",
        "    ck[i]=10\n",
        "  x.append((ck[i]-c)**2)\n",
        "  i+=1"
      ],
      "execution_count": 0,
      "outputs": []
    },
    {
      "cell_type": "code",
      "metadata": {
        "id": "9T370ukpQAoW",
        "colab_type": "code",
        "outputId": "78d192d7-ee7a-44f1-8628-d6ce6f38f383",
        "colab": {
          "base_uri": "https://localhost:8080/",
          "height": 34
        }
      },
      "source": [
        "print(max(x))"
      ],
      "execution_count": 14,
      "outputs": [
        {
          "output_type": "stream",
          "text": [
            "[12.6261215]\n"
          ],
          "name": "stdout"
        }
      ]
    },
    {
      "cell_type": "code",
      "metadata": {
        "id": "MgGC1BKYYeNi",
        "colab_type": "code",
        "colab": {}
      },
      "source": [
        "test=pd.read_csv(\"/content/test.csv\")"
      ],
      "execution_count": 0,
      "outputs": []
    },
    {
      "cell_type": "code",
      "metadata": {
        "id": "oCbRrz3UYjTo",
        "colab_type": "code",
        "outputId": "177c98b0-b81a-46b4-8177-e89170859f00",
        "colab": {
          "base_uri": "https://localhost:8080/",
          "height": 394
        }
      },
      "source": [
        "test.head()"
      ],
      "execution_count": 24,
      "outputs": [
        {
          "output_type": "execute_result",
          "data": {
            "text/html": [
              "<div>\n",
              "<style scoped>\n",
              "    .dataframe tbody tr th:only-of-type {\n",
              "        vertical-align: middle;\n",
              "    }\n",
              "\n",
              "    .dataframe tbody tr th {\n",
              "        vertical-align: top;\n",
              "    }\n",
              "\n",
              "    .dataframe thead th {\n",
              "        text-align: right;\n",
              "    }\n",
              "</style>\n",
              "<table border=\"1\" class=\"dataframe\">\n",
              "  <thead>\n",
              "    <tr style=\"text-align: right;\">\n",
              "      <th></th>\n",
              "      <th>patient_id</th>\n",
              "      <th>name_of_drug</th>\n",
              "      <th>review_by_patient</th>\n",
              "      <th>drug_approved_by_UIC</th>\n",
              "      <th>number_of_times_prescribed</th>\n",
              "      <th>use_case_for_drug</th>\n",
              "      <th>effectiveness_rating</th>\n",
              "    </tr>\n",
              "  </thead>\n",
              "  <tbody>\n",
              "    <tr>\n",
              "      <th>0</th>\n",
              "      <td>163740</td>\n",
              "      <td>Mirtazapine</td>\n",
              "      <td>\"I&amp;#039;ve tried a few antidepressants over th...</td>\n",
              "      <td>28-Feb-12</td>\n",
              "      <td>22</td>\n",
              "      <td>Depression</td>\n",
              "      <td>10</td>\n",
              "    </tr>\n",
              "    <tr>\n",
              "      <th>1</th>\n",
              "      <td>39293</td>\n",
              "      <td>Contrave</td>\n",
              "      <td>\"Contrave combines drugs that were used for al...</td>\n",
              "      <td>5-Mar-17</td>\n",
              "      <td>35</td>\n",
              "      <td>Weight Loss</td>\n",
              "      <td>9</td>\n",
              "    </tr>\n",
              "    <tr>\n",
              "      <th>2</th>\n",
              "      <td>208087</td>\n",
              "      <td>Zyclara</td>\n",
              "      <td>\"4 days in on first 2 weeks.  Using on arms an...</td>\n",
              "      <td>3-Jul-14</td>\n",
              "      <td>13</td>\n",
              "      <td>Keratosis</td>\n",
              "      <td>4</td>\n",
              "    </tr>\n",
              "    <tr>\n",
              "      <th>3</th>\n",
              "      <td>23295</td>\n",
              "      <td>Methadone</td>\n",
              "      <td>\"Ive been on Methadone for over ten years and ...</td>\n",
              "      <td>18-Oct-16</td>\n",
              "      <td>21</td>\n",
              "      <td>Opiate Withdrawal</td>\n",
              "      <td>7</td>\n",
              "    </tr>\n",
              "    <tr>\n",
              "      <th>4</th>\n",
              "      <td>97013</td>\n",
              "      <td>Ambien</td>\n",
              "      <td>\"Ditto on rebound sleepless when discontinued....</td>\n",
              "      <td>13-Jan-15</td>\n",
              "      <td>44</td>\n",
              "      <td>Insomnia</td>\n",
              "      <td>2</td>\n",
              "    </tr>\n",
              "  </tbody>\n",
              "</table>\n",
              "</div>"
            ],
            "text/plain": [
              "   patient_id name_of_drug  ...  use_case_for_drug effectiveness_rating\n",
              "0      163740  Mirtazapine  ...         Depression                   10\n",
              "1       39293     Contrave  ...        Weight Loss                    9\n",
              "2      208087      Zyclara  ...          Keratosis                    4\n",
              "3       23295    Methadone  ...  Opiate Withdrawal                    7\n",
              "4       97013       Ambien  ...           Insomnia                    2\n",
              "\n",
              "[5 rows x 7 columns]"
            ]
          },
          "metadata": {
            "tags": []
          },
          "execution_count": 24
        }
      ]
    },
    {
      "cell_type": "code",
      "metadata": {
        "id": "JAxwk3EYYrmQ",
        "colab_type": "code",
        "colab": {}
      },
      "source": [
        "#patient_id2=test[\"patient_id\"]\n",
        "test=test.drop([\"patient_id\",\"name_of_drug\",\"review_by_patient\",\"drug_approved_by_UIC\"],axis=1)"
      ],
      "execution_count": 0,
      "outputs": []
    },
    {
      "cell_type": "code",
      "metadata": {
        "id": "aAE8GZQd6mLN",
        "colab_type": "code",
        "colab": {
          "base_uri": "https://localhost:8080/",
          "height": 204
        },
        "outputId": "58d5e07b-a9fe-4b48-8126-f79b33b15ea5"
      },
      "source": [
        "test.head()"
      ],
      "execution_count": 28,
      "outputs": [
        {
          "output_type": "execute_result",
          "data": {
            "text/html": [
              "<div>\n",
              "<style scoped>\n",
              "    .dataframe tbody tr th:only-of-type {\n",
              "        vertical-align: middle;\n",
              "    }\n",
              "\n",
              "    .dataframe tbody tr th {\n",
              "        vertical-align: top;\n",
              "    }\n",
              "\n",
              "    .dataframe thead th {\n",
              "        text-align: right;\n",
              "    }\n",
              "</style>\n",
              "<table border=\"1\" class=\"dataframe\">\n",
              "  <thead>\n",
              "    <tr style=\"text-align: right;\">\n",
              "      <th></th>\n",
              "      <th>number_of_times_prescribed</th>\n",
              "      <th>use_case_for_drug</th>\n",
              "      <th>effectiveness_rating</th>\n",
              "    </tr>\n",
              "  </thead>\n",
              "  <tbody>\n",
              "    <tr>\n",
              "      <th>0</th>\n",
              "      <td>22</td>\n",
              "      <td>Depression</td>\n",
              "      <td>10</td>\n",
              "    </tr>\n",
              "    <tr>\n",
              "      <th>1</th>\n",
              "      <td>35</td>\n",
              "      <td>Weight Loss</td>\n",
              "      <td>9</td>\n",
              "    </tr>\n",
              "    <tr>\n",
              "      <th>2</th>\n",
              "      <td>13</td>\n",
              "      <td>Keratosis</td>\n",
              "      <td>4</td>\n",
              "    </tr>\n",
              "    <tr>\n",
              "      <th>3</th>\n",
              "      <td>21</td>\n",
              "      <td>Opiate Withdrawal</td>\n",
              "      <td>7</td>\n",
              "    </tr>\n",
              "    <tr>\n",
              "      <th>4</th>\n",
              "      <td>44</td>\n",
              "      <td>Insomnia</td>\n",
              "      <td>2</td>\n",
              "    </tr>\n",
              "  </tbody>\n",
              "</table>\n",
              "</div>"
            ],
            "text/plain": [
              "   number_of_times_prescribed  use_case_for_drug  effectiveness_rating\n",
              "0                          22         Depression                    10\n",
              "1                          35        Weight Loss                     9\n",
              "2                          13          Keratosis                     4\n",
              "3                          21  Opiate Withdrawal                     7\n",
              "4                          44           Insomnia                     2"
            ]
          },
          "metadata": {
            "tags": []
          },
          "execution_count": 28
        }
      ]
    },
    {
      "cell_type": "code",
      "metadata": {
        "id": "eossU6TT63JF",
        "colab_type": "code",
        "colab": {
          "base_uri": "https://localhost:8080/",
          "height": 204
        },
        "outputId": "dd086112-7f6a-4e97-9552-7adebf893f3f"
      },
      "source": [
        "le2=LabelEncoder()\n",
        "test[\"use_case_for_drug\"]=le2.fit_transform(test[\"use_case_for_drug\"])\n",
        "test.head()"
      ],
      "execution_count": 29,
      "outputs": [
        {
          "output_type": "execute_result",
          "data": {
            "text/html": [
              "<div>\n",
              "<style scoped>\n",
              "    .dataframe tbody tr th:only-of-type {\n",
              "        vertical-align: middle;\n",
              "    }\n",
              "\n",
              "    .dataframe tbody tr th {\n",
              "        vertical-align: top;\n",
              "    }\n",
              "\n",
              "    .dataframe thead th {\n",
              "        text-align: right;\n",
              "    }\n",
              "</style>\n",
              "<table border=\"1\" class=\"dataframe\">\n",
              "  <thead>\n",
              "    <tr style=\"text-align: right;\">\n",
              "      <th></th>\n",
              "      <th>number_of_times_prescribed</th>\n",
              "      <th>use_case_for_drug</th>\n",
              "      <th>effectiveness_rating</th>\n",
              "    </tr>\n",
              "  </thead>\n",
              "  <tbody>\n",
              "    <tr>\n",
              "      <th>0</th>\n",
              "      <td>22</td>\n",
              "      <td>130</td>\n",
              "      <td>10</td>\n",
              "    </tr>\n",
              "    <tr>\n",
              "      <th>1</th>\n",
              "      <td>35</td>\n",
              "      <td>441</td>\n",
              "      <td>9</td>\n",
              "    </tr>\n",
              "    <tr>\n",
              "      <th>2</th>\n",
              "      <td>13</td>\n",
              "      <td>241</td>\n",
              "      <td>4</td>\n",
              "    </tr>\n",
              "    <tr>\n",
              "      <th>3</th>\n",
              "      <td>21</td>\n",
              "      <td>299</td>\n",
              "      <td>7</td>\n",
              "    </tr>\n",
              "    <tr>\n",
              "      <th>4</th>\n",
              "      <td>44</td>\n",
              "      <td>231</td>\n",
              "      <td>2</td>\n",
              "    </tr>\n",
              "  </tbody>\n",
              "</table>\n",
              "</div>"
            ],
            "text/plain": [
              "   number_of_times_prescribed  use_case_for_drug  effectiveness_rating\n",
              "0                          22                130                    10\n",
              "1                          35                441                     9\n",
              "2                          13                241                     4\n",
              "3                          21                299                     7\n",
              "4                          44                231                     2"
            ]
          },
          "metadata": {
            "tags": []
          },
          "execution_count": 29
        }
      ]
    },
    {
      "cell_type": "code",
      "metadata": {
        "id": "dUk3yDmn6pLG",
        "colab_type": "code",
        "colab": {}
      },
      "source": [
        "pred=model.predict(test)"
      ],
      "execution_count": 0,
      "outputs": []
    },
    {
      "cell_type": "code",
      "metadata": {
        "id": "GIQf6Quj75QU",
        "colab_type": "code",
        "colab": {}
      },
      "source": [
        "classes=np.argmax(pred,axis=1)"
      ],
      "execution_count": 0,
      "outputs": []
    }
  ]
}